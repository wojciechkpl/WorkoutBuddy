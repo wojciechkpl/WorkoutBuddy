{
 "cells": [
  {
   "cell_type": "markdown",
   "metadata": {},
   "source": [
    "# AI Services Example Notebook\n",
    "\n",
    "This notebook demonstrates how to use the `ai_services.py` module from the WorkoutBuddy ML backend.\n",
    "\n",
    "## Features Covered:\n",
    "1. **Personalized Challenge Generation** - AI-powered daily workout challenges\n",
    "2. **Community Compatibility Matching** - Find compatible workout partners\n",
    "3. **Personalized Encouragement** - Generate motivational messages\n",
    "\n",
    "## Prerequisites:\n",
    "- Set up the `ANTHROPIC_API_KEY` in `.envrc` file (in project root)\n",
    "- Install required dependencies from `requirements.txt`\n",
    "- Have access to the database models"
   ]
  },
  {
   "cell_type": "code",
   "execution_count": 6,
   "metadata": {},
   "outputs": [
    {
     "name": "stdout",
     "output_type": "stream",
     "text": [
      "✅ Environment variables loaded from .envrc\n",
      "   - Found ANTHROPIC_API_KEY: ✅\n",
      "   - Found POSTHOG_API_KEY: ✅\n",
      "Environment setup complete!\n",
      "Python version: 3.12.7 (main, Oct 16 2024, 07:12:08) [Clang 18.1.8 ]\n",
      "Working directory: /Users/wojciechkowalinski/Sync/work/WorkoutBuddy/docs/analytics/notebooks\n",
      "API Key configured: ✅\n"
     ]
    }
   ],
   "source": [
    "# Import required modules\n",
    "import sys\n",
    "import os\n",
    "import asyncio\n",
    "from datetime import datetime, timedelta\n",
    "from typing import Dict, List\n",
    "\n",
    "# Add the ml_backend path to sys.path (from docs/analytics/notebooks to project root)\n",
    "sys.path.append('../../../ml_backend')\n",
    "\n",
    "# Load environment variables from .envrc file (in project root)\n",
    "def load_envrc():\n",
    "    \"\"\"Load environment variables from .envrc file\"\"\"\n",
    "    envrc_path = '../../../.envrc'  # Path to .envrc from notebooks folder\n",
    "    try:\n",
    "        with open(envrc_path, 'r') as f:\n",
    "            for line in f:\n",
    "                line = line.strip()\n",
    "                if line and not line.startswith('#') and '=' in line:\n",
    "                    if line.startswith('export '):\n",
    "                        # Handle 'export KEY=value' format\n",
    "                        line = line[7:]  # Remove 'export ' prefix\n",
    "                    key, value = line.split('=', 1)\n",
    "                    os.environ[key] = value\n",
    "        print(\"✅ Environment variables loaded from .envrc\")\n",
    "        print(f\"   - Found ANTHROPIC_API_KEY: {'✅' if os.getenv('ANTHROPIC_API_KEY') else '❌'}\")\n",
    "        print(f\"   - Found POSTHOG_API_KEY: {'✅' if os.getenv('POSTHOG_API_KEY') else '❌'}\")\n",
    "    except FileNotFoundError:\n",
    "        print(\"⚠️  .envrc file not found. Please create one with ANTHROPIC_API_KEY in project root\")\n",
    "    except Exception as e:\n",
    "        print(f\"❌ Error loading .envrc: {e}\")\n",
    "\n",
    "# Load environment variables\n",
    "load_envrc()\n",
    "\n",
    "print(\"Environment setup complete!\")\n",
    "print(f\"Python version: {sys.version}\")\n",
    "print(f\"Working directory: {os.getcwd()}\")\n",
    "print(f\"API Key configured: {'✅' if os.getenv('ANTHROPIC_API_KEY') else '❌'}\")"
   ]
  },
  {
   "cell_type": "code",
   "execution_count": 7,
   "metadata": {},
   "outputs": [
    {
     "name": "stdout",
     "output_type": "stream",
     "text": [
      "✅ AI Services imported successfully!\n",
      "AI Service enabled: True\n"
     ]
    }
   ],
   "source": [
    "# Import the AI service\n",
    "try:\n",
    "    from app.ai_services import ai_service, ChallengeResponse, CommunityMatchResponse, EncouragementResponse\n",
    "    from app.core import models\n",
    "    print(\"✅ AI Services imported successfully!\")\n",
    "    print(f\"AI Service enabled: {ai_service.enabled}\")\n",
    "except ImportError as e:\n",
    "    print(f\"❌ Import error: {e}\")\n",
    "    print(\"Make sure the ml_backend path is correct and dependencies are installed\")"
   ]
  },
  {
   "cell_type": "markdown",
   "metadata": {},
   "source": [
    "## 1. Setup Mock Data\n",
    "\n",
    "Since we're running this notebook independently, we'll create mock user objects that match the database model structure."
   ]
  },
  {
   "cell_type": "code",
   "execution_count": 8,
   "metadata": {},
   "outputs": [
    {
     "name": "stdout",
     "output_type": "stream",
     "text": [
      "Mock users and goals created successfully!\n",
      "User 1: Alice Johnson - Goal: cardio, Activity: moderate\n",
      "User 2: Bob Smith - Goal: strength, Activity: high\n",
      "User 3: Carol Davis - Goal: flexibility, Activity: low\n",
      "User 4: David Wilson - Goal: cardio, Activity: moderate\n"
     ]
    }
   ],
   "source": [
    "# Create mock user class for testing\n",
    "class MockUser:\n",
    "    def __init__(self, user_id, goal_type=\"cardio\", activity_level=\"moderate\", \n",
    "                 year_of_birth=1990, first_name=\"John\", last_name=\"Doe\"):\n",
    "        self.id = user_id\n",
    "        self.goal_type = goal_type\n",
    "        self.activity_level = activity_level\n",
    "        self.year_of_birth = year_of_birth\n",
    "        self.first_name = first_name\n",
    "        self.last_name = last_name\n",
    "        self.motivation_style = \"encouraging\"\n",
    "        self.community_engagement_score = 0.7\n",
    "\n",
    "class MockGoal:\n",
    "    def __init__(self, goal_id, title, user_id):\n",
    "        self.id = goal_id\n",
    "        self.title = title\n",
    "        self.owner_id = user_id\n",
    "\n",
    "# Create sample users\n",
    "user1 = MockUser(1, \"cardio\", \"moderate\", 1985, \"Alice\", \"Johnson\")\n",
    "user2 = MockUser(2, \"strength\", \"high\", 1990, \"Bob\", \"Smith\")\n",
    "user3 = MockUser(3, \"flexibility\", \"low\", 1995, \"Carol\", \"Davis\")\n",
    "user4 = MockUser(4, \"cardio\", \"moderate\", 1988, \"David\", \"Wilson\")\n",
    "\n",
    "# Create sample goals\n",
    "goals_user1 = [MockGoal(1, \"Run 5K in under 25 minutes\", 1), MockGoal(2, \"Improve cardiovascular health\", 1)]\n",
    "goals_user2 = [MockGoal(3, \"Bench press bodyweight\", 2), MockGoal(4, \"Build muscle mass\", 2)]\n",
    "goals_user3 = [MockGoal(5, \"Touch toes without bending knees\", 3)]\n",
    "goals_user4 = [MockGoal(6, \"Complete a marathon\", 4)]\n",
    "\n",
    "print(\"Mock users and goals created successfully!\")\n",
    "print(f\"User 1: {user1.first_name} {user1.last_name} - Goal: {user1.goal_type}, Activity: {user1.activity_level}\")\n",
    "print(f\"User 2: {user2.first_name} {user2.last_name} - Goal: {user2.goal_type}, Activity: {user2.activity_level}\")\n",
    "print(f\"User 3: {user3.first_name} {user3.last_name} - Goal: {user3.goal_type}, Activity: {user3.activity_level}\")\n",
    "print(f\"User 4: {user4.first_name} {user4.last_name} - Goal: {user4.goal_type}, Activity: {user4.activity_level}\")"
   ]
  },
  {
   "cell_type": "markdown",
   "metadata": {},
   "source": [
    "## 2. Personalized Challenge Generation\n",
    "\n",
    "Generate AI-powered personalized daily challenges based on user profile and history."
   ]
  },
  {
   "cell_type": "code",
   "execution_count": 9,
   "metadata": {},
   "outputs": [
    {
     "name": "stdout",
     "output_type": "stream",
     "text": [
      "\n",
      "=== PERSONALIZED CHALLENGE GENERATION ===\n",
      "Generating challenge for: Alice Johnson\n",
      "Goal Type: cardio\n",
      "Activity Level: moderate\n",
      "Age: 40\n"
     ]
    },
    {
     "name": "stderr",
     "output_type": "stream",
     "text": [
      "AI challenge generation failed: 1 validation error for ChallengeResponse\n",
      "duration\n",
      "  Input should be a valid string [type=string_type, input_value=20, input_type=int]\n",
      "    For further information visit https://errors.pydantic.dev/2.11/v/string_type\n"
     ]
    },
    {
     "name": "stdout",
     "output_type": "stream",
     "text": [
      "\n",
      "📋 Generated Challenge:\n",
      "Title: Quick Cardio Burst\n",
      "Description: 5 minutes of alternating: 30 seconds jumping jacks, 30 seconds rest. Repeat 5 times.\n",
      "Duration: 5 minutes\n",
      "Difficulty: 3/5\n",
      "Equipment Needed: []\n",
      "Motivation: Every step counts! You've got this! 💪\n",
      "AI Generated: False\n"
     ]
    }
   ],
   "source": [
    "# Example user history and preferences\n",
    "user_history = {\n",
    "    \"recent_completion_rate\": \"85% - Very consistent\",\n",
    "    \"recent_challenges\": [\n",
    "        \"20-minute HIIT workout\",\n",
    "        \"Morning jog routine\",\n",
    "        \"Bodyweight circuit\"\n",
    "    ]\n",
    "}\n",
    "\n",
    "user_preferences = {\n",
    "    \"equipment\": \"Dumbbells\",\n",
    "    \"time_minutes\": 20,\n",
    "    \"preferred_intensity\": \"moderate\"\n",
    "}\n",
    "\n",
    "# Generate personalized challenge\n",
    "async def demo_challenge_generation():\n",
    "    print(\"\\n=== PERSONALIZED CHALLENGE GENERATION ===\")\n",
    "    print(f\"Generating challenge for: {user1.first_name} {user1.last_name}\")\n",
    "    print(f\"Goal Type: {user1.goal_type}\")\n",
    "    print(f\"Activity Level: {user1.activity_level}\")\n",
    "    print(f\"Age: {datetime.now().year - user1.year_of_birth}\")\n",
    "    \n",
    "    challenge = await ai_service.generate_personalized_challenge(\n",
    "        user=user1,\n",
    "        user_history=user_history,\n",
    "        preferences=user_preferences\n",
    "    )\n",
    "    \n",
    "    print(\"\\n📋 Generated Challenge:\")\n",
    "    print(f\"Title: {challenge.title}\")\n",
    "    print(f\"Description: {challenge.description}\")\n",
    "    print(f\"Duration: {challenge.duration}\")\n",
    "    print(f\"Difficulty: {challenge.difficulty}/5\")\n",
    "    print(f\"Equipment Needed: {challenge.equipment_needed}\")\n",
    "    print(f\"Motivation: {challenge.motivation_message}\")\n",
    "    print(f\"AI Generated: {challenge.ai_generated}\")\n",
    "    \n",
    "    return challenge\n",
    "\n",
    "# Run the challenge generation\n",
    "challenge_result = await demo_challenge_generation()"
   ]
  },
  {
   "cell_type": "code",
   "execution_count": 10,
   "metadata": {},
   "outputs": [
    {
     "name": "stdout",
     "output_type": "stream",
     "text": [
      "\n",
      "\n",
      "=== CHALLENGE FOR BOB ===\n",
      "Goal: strength | Activity Level: high\n"
     ]
    },
    {
     "name": "stderr",
     "output_type": "stream",
     "text": [
      "AI challenge generation failed: 1 validation error for ChallengeResponse\n",
      "duration\n",
      "  Input should be a valid string [type=string_type, input_value=15, input_type=int]\n",
      "    For further information visit https://errors.pydantic.dev/2.11/v/string_type\n"
     ]
    },
    {
     "name": "stdout",
     "output_type": "stream",
     "text": [
      "📋 Bodyweight Power\n",
      "📝 3 rounds: 8 push-ups, 12 squats, 15-second plank. Rest 1 minute between rounds.\n",
      "⏱️ Duration: 10 minutes\n",
      "💪 Motivation: Build that strength one rep at a time! 🔥\n",
      "\n",
      "\n",
      "=== CHALLENGE FOR CAROL ===\n",
      "Goal: flexibility | Activity Level: low\n"
     ]
    },
    {
     "name": "stderr",
     "output_type": "stream",
     "text": [
      "AI challenge generation failed: 1 validation error for ChallengeResponse\n",
      "duration\n",
      "  Input should be a valid string [type=string_type, input_value=15, input_type=int]\n",
      "    For further information visit https://errors.pydantic.dev/2.11/v/string_type\n"
     ]
    },
    {
     "name": "stdout",
     "output_type": "stream",
     "text": [
      "📋 Morning Mobility\n",
      "📝 Gentle flow: neck rolls, shoulder circles, hip circles, calf raises. Hold each for 30 seconds.\n",
      "⏱️ Duration: 8 minutes\n",
      "💪 Motivation: Your body will thank you for this care! 🧘‍♀️\n"
     ]
    }
   ],
   "source": [
    "async def test_different_user_challenges():\n",
    "    users_to_test = [user2, user3]  # Strength and flexibility users\n",
    "    \n",
    "    for user in users_to_test:\n",
    "        print(f\"\\n\\n=== CHALLENGE FOR {user.first_name.upper()} ===\")\n",
    "        print(f\"Goal: {user.goal_type} | Activity Level: {user.activity_level}\")\n",
    "        \n",
    "        # Adjust history based on user type\n",
    "        adapted_history = {\n",
    "            \"recent_completion_rate\": \"70% - Good progress\",\n",
    "            \"recent_challenges\": [\n",
    "                f\"{user.goal_type.title()} focused workout\",\n",
    "                \"Beginner routine\"\n",
    "            ]\n",
    "        }\n",
    "        \n",
    "        challenge = await ai_service.generate_personalized_challenge(\n",
    "            user=user,\n",
    "            user_history=adapted_history,\n",
    "            preferences={\"time_minutes\": 15}\n",
    "        )\n",
    "        \n",
    "        print(f\"📋 {challenge.title}\")\n",
    "        print(f\"📝 {challenge.description}\")\n",
    "        print(f\"⏱️ Duration: {challenge.duration}\")\n",
    "        print(f\"💪 Motivation: {challenge.motivation_message}\")\n",
    "\n",
    "await test_different_user_challenges()"
   ]
  },
  {
   "cell_type": "markdown",
   "metadata": {},
   "source": [
    "## 3. Community Compatibility Matching\n",
    "\n",
    "Demonstrate AI-powered matching between users for accountability partnerships."
   ]
  },
  {
   "cell_type": "code",
   "execution_count": 11,
   "metadata": {},
   "outputs": [
    {
     "name": "stdout",
     "output_type": "stream",
     "text": [
      "\n",
      "\n",
      "=== COMMUNITY COMPATIBILITY MATCHING ===\n",
      "Finding matches for: Alice Johnson\n",
      "Looking for accountability partners...\n",
      "\n",
      "🤝 Found 3 potential matches:\n",
      "==================================================\n",
      "\n",
      "#1 Match: David Wilson\n",
      "🎯 Compatibility Score: 80.0%\n",
      "💡 Why they're a good match:\n",
      "   • Both users have a moderate activity level and an encouraging motivation style, which suggests they may be able to support each other's fitness goals.\n",
      "   • User A's goal of improving cardiovascular health aligns with User B's goal of completing a marathon, indicating they may have complementary fitness interests.\n",
      "   • The users are within a 3-year age range, which can facilitate better understanding and connection.\n",
      "🏃 Shared Interests: Improving cardiovascular health, Encouraging motivation style\n",
      "\n",
      "#2 Match: Bob Smith\n",
      "🎯 Compatibility Score: 60.0%\n",
      "💡 Why they're a good match:\n",
      "   • Similar age groups\n",
      "🏃 Shared Interests: fitness\n",
      "\n",
      "#3 Match: Carol Davis\n",
      "🎯 Compatibility Score: 50.0%\n",
      "💡 Why they're a good match:\n",
      "   • Active community member\n",
      "🏃 Shared Interests: fitness\n"
     ]
    }
   ],
   "source": [
    "async def demo_community_matching():\n",
    "    print(\"\\n\\n=== COMMUNITY COMPATIBILITY MATCHING ===\")\n",
    "    print(f\"Finding matches for: {user1.first_name} {user1.last_name}\")\n",
    "    print(f\"Looking for accountability partners...\")\n",
    "    \n",
    "    # Potential matches (excluding the user themselves)\n",
    "    potential_matches = [user2, user3, user4]\n",
    "    \n",
    "    # Goals for each user\n",
    "    match_goals = {\n",
    "        user2.id: goals_user2,\n",
    "        user3.id: goals_user3,\n",
    "        user4.id: goals_user4\n",
    "    }\n",
    "    \n",
    "    matches = await ai_service.analyze_community_compatibility(\n",
    "        user=user1,\n",
    "        potential_matches=potential_matches,\n",
    "        user_goals=goals_user1,\n",
    "        match_goals=match_goals\n",
    "    )\n",
    "    \n",
    "    print(f\"\\n🤝 Found {len(matches)} potential matches:\")\n",
    "    print(\"=\" * 50)\n",
    "    \n",
    "    for i, match in enumerate(matches, 1):\n",
    "        print(f\"\\n#{i} Match: {match.name}\")\n",
    "        print(f\"🎯 Compatibility Score: {match.compatibility_score:.1%}\")\n",
    "        print(f\"💡 Why they're a good match:\")\n",
    "        for reason in match.match_reasons:\n",
    "            print(f\"   • {reason}\")\n",
    "        print(f\"🏃 Shared Interests: {', '.join(match.shared_interests)}\")\n",
    "    \n",
    "    return matches\n",
    "\n",
    "matches_result = await demo_community_matching()"
   ]
  },
  {
   "cell_type": "markdown",
   "metadata": {},
   "source": [
    "## 4. Personalized Encouragement Generation\n",
    "\n",
    "Generate contextual encouragement messages based on user progress and sentiment."
   ]
  },
  {
   "cell_type": "code",
   "execution_count": 12,
   "metadata": {},
   "outputs": [
    {
     "name": "stdout",
     "output_type": "stream",
     "text": [
      "\n",
      "\n",
      "=== PERSONALIZED ENCOURAGEMENT GENERATION ===\n",
      "\n",
      "📱 Scenario: High Performer\n",
      "Context: Completed 5K run in 24:30 - new personal record!\n",
      "\n",
      "💬 Generated Encouragement:\n",
      "Message: \"Congratulations on your new 5K personal record! That's an incredible achievement and a testament to your hard work and dedication. Your consistent progress is really inspiring to our fitness community. To keep up the momentum, I suggest trying a challenging interval workout to build your speed and endurance even further. You could also look into joining a local running group to find new running routes and training partners. Keep crushing your goals - we're all cheering you on!\"\n",
      "Tone: celebratory\n",
      "Personalized: True\n",
      "Suggestions:\n",
      "   • Try a challenging interval workout to build speed and endurance\n",
      "   • Join a local running group to find new routes and training partners\n",
      "   • Keep up the great work - you're an inspiration to our fitness community!\n",
      "--------------------------------------------------\n",
      "\n",
      "📱 Scenario: Struggling User\n",
      "Context: Missed workouts this week, feeling unmotivated\n",
      "\n",
      "💬 Generated Encouragement:\n",
      "Message: \"I understand you've been feeling unmotivated lately, but don't give up! You've got this. Let's get you back on track with your cardio goals. Even just a 20-minute walk or jog a few times this week can get you moving in the right direction. And remember, progress isn't always linear - you've got this, I believe in you!\"\n",
      "Tone: encouraging\n",
      "Personalized: True\n",
      "Suggestions:\n",
      "   • Go for a 20-minute walk or jog 2-3 times this week\n",
      "   • Try an online cardio workout video to get your heart rate up\n",
      "   • Set a reminder to check in with the community - we're here to support you!\n",
      "--------------------------------------------------\n",
      "\n",
      "📱 Scenario: Comeback User\n",
      "Context: Back to working out after a break\n",
      "\n",
      "💬 Generated Encouragement:\n",
      "Message: \"Great job getting back into your fitness routine! It's awesome that you're staying consistent, even after a break. Now that you're back at it, let's keep that momentum going with some cardio that'll really get your heart pumping. I know it can be tough, but trust the process and keep showing up - you've got this!\"\n",
      "Tone: encouraging\n",
      "Personalized: True\n",
      "Suggestions:\n",
      "   • Try a high-intensity interval training (HIIT) workout to mix up your cardio and really challenge yourself\n",
      "   • Schedule a fun, social cardio activity like a group fitness class or a jog with a friend to stay motivated\n",
      "   • Set a specific cardio goal, like running a 5K or increasing your endurance, and track your progress to stay focused\n",
      "--------------------------------------------------\n"
     ]
    }
   ],
   "source": [
    "async def demo_encouragement_generation():\n",
    "    print(\"\\n\\n=== PERSONALIZED ENCOURAGEMENT GENERATION ===\")\n",
    "    \n",
    "    # Different user contexts to test\n",
    "    test_scenarios = [\n",
    "        {\n",
    "            \"name\": \"High Performer\",\n",
    "            \"context\": {\n",
    "                \"recent_checkin\": \"Completed 5K run in 24:30 - new personal record!\",\n",
    "                \"progress_trend\": \"Improving consistently\",\n",
    "                \"engagement_level\": \"High\",\n",
    "                \"days_since_last\": 1,\n",
    "                \"recent_challenges_completed\": 6\n",
    "            }\n",
    "        },\n",
    "        {\n",
    "            \"name\": \"Struggling User\",\n",
    "            \"context\": {\n",
    "                \"recent_checkin\": \"Missed workouts this week, feeling unmotivated\",\n",
    "                \"progress_trend\": \"Declining\",\n",
    "                \"engagement_level\": \"Low\",\n",
    "                \"days_since_last\": 7,\n",
    "                \"recent_challenges_completed\": 1\n",
    "            }\n",
    "        },\n",
    "        {\n",
    "            \"name\": \"Comeback User\",\n",
    "            \"context\": {\n",
    "                \"recent_checkin\": \"Back to working out after a break\",\n",
    "                \"progress_trend\": \"Stable\",\n",
    "                \"engagement_level\": \"Medium\",\n",
    "                \"days_since_last\": 3,\n",
    "                \"recent_challenges_completed\": 2\n",
    "            }\n",
    "        }\n",
    "    ]\n",
    "    \n",
    "    for scenario in test_scenarios:\n",
    "        print(f\"\\n📱 Scenario: {scenario['name']}\")\n",
    "        print(f\"Context: {scenario['context']['recent_checkin']}\")\n",
    "        \n",
    "        encouragement = await ai_service.generate_encouragement(\n",
    "            user=user1,\n",
    "            context=scenario['context']\n",
    "        )\n",
    "        \n",
    "        print(f\"\\n💬 Generated Encouragement:\")\n",
    "        print(f\"Message: \\\"{encouragement.message}\\\"\")\n",
    "        print(f\"Tone: {encouragement.tone}\")\n",
    "        print(f\"Personalized: {encouragement.personalized}\")\n",
    "        print(f\"Suggestions:\")\n",
    "        for suggestion in encouragement.suggestions:\n",
    "            print(f\"   • {suggestion}\")\n",
    "        print(\"-\" * 50)\n",
    "\n",
    "await demo_encouragement_generation()"
   ]
  },
  {
   "cell_type": "markdown",
   "metadata": {},
   "source": [
    "## 5. Fallback Behavior Testing\n",
    "\n",
    "Test how the service behaves when AI is unavailable (without API key)."
   ]
  },
  {
   "cell_type": "code",
   "execution_count": 13,
   "metadata": {},
   "outputs": [
    {
     "name": "stderr",
     "output_type": "stream",
     "text": [
      "Anthropic API key not found. AI features will use fallback responses.\n"
     ]
    },
    {
     "name": "stdout",
     "output_type": "stream",
     "text": [
      "\n",
      "\n",
      "=== FALLBACK BEHAVIOR TESTING ===\n",
      "Testing AI service without API key (fallback mode)\n",
      "AI Service enabled: False\n",
      "\n",
      "📋 Fallback Challenge Generation:\n",
      "Title: Bodyweight Power\n",
      "Description: 3 rounds: 8 push-ups, 12 squats, 15-second plank. Rest 1 minute between rounds.\n",
      "AI Generated: False\n",
      "\n",
      "💬 Fallback Encouragement:\n",
      "Message: \"Progress isn't always linear, but you're moving forward! 🚀\"\n",
      "Personalized: False\n",
      "\n",
      "✅ Fallback testing completed!\n"
     ]
    }
   ],
   "source": [
    "async def demo_fallback_behavior():\n",
    "    print(\"\\n\\n=== FALLBACK BEHAVIOR TESTING ===\")\n",
    "    print(\"Testing AI service without API key (fallback mode)\")\n",
    "    \n",
    "    # Create a service instance without API key\n",
    "    from app.ai_services import AIService\n",
    "    \n",
    "    # Temporarily remove API key\n",
    "    original_key = os.environ.get('ANTHROPIC_API_KEY')\n",
    "    if 'ANTHROPIC_API_KEY' in os.environ:\n",
    "        del os.environ['ANTHROPIC_API_KEY']\n",
    "    \n",
    "    fallback_service = AIService()\n",
    "    \n",
    "    print(f\"AI Service enabled: {fallback_service.enabled}\")\n",
    "    \n",
    "    # Test fallback challenge generation\n",
    "    print(\"\\n📋 Fallback Challenge Generation:\")\n",
    "    fallback_challenge = await fallback_service.generate_personalized_challenge(\n",
    "        user=user2,  # strength user\n",
    "        user_history=user_history\n",
    "    )\n",
    "    \n",
    "    print(f\"Title: {fallback_challenge.title}\")\n",
    "    print(f\"Description: {fallback_challenge.description}\")\n",
    "    print(f\"AI Generated: {fallback_challenge.ai_generated}\")\n",
    "    \n",
    "    # Test fallback encouragement\n",
    "    print(\"\\n💬 Fallback Encouragement:\")\n",
    "    fallback_encouragement = await fallback_service.generate_encouragement(\n",
    "        user=user1,\n",
    "        context={\"progress_trend\": \"stable\"}\n",
    "    )\n",
    "    \n",
    "    print(f\"Message: \\\"{fallback_encouragement.message}\\\"\")\n",
    "    print(f\"Personalized: {fallback_encouragement.personalized}\")\n",
    "    \n",
    "    # Restore API key\n",
    "    if original_key:\n",
    "        os.environ['ANTHROPIC_API_KEY'] = original_key\n",
    "    \n",
    "    print(\"\\n✅ Fallback testing completed!\")\n",
    "\n",
    "await demo_fallback_behavior()"
   ]
  },
  {
   "cell_type": "markdown",
   "metadata": {},
   "source": [
    "## 6. Usage Instructions\n",
    "\n",
    "### Environment Setup\n",
    "```bash\n",
    "# From project root, make sure .envrc file contains your API key:\n",
    "# export ANTHROPIC_API_KEY=\"your-api-key-here\"\n",
    "\n",
    "# If using direnv (recommended):\n",
    "direnv allow\n",
    "\n",
    "# Or manually source the file:\n",
    "source .envrc\n",
    "\n",
    "# Install dependencies\n",
    "pip install -r ml_backend/requirements.txt\n",
    "\n",
    "# Navigate to notebook directory and start Jupyter\n",
    "cd docs/analytics/notebooks\n",
    "jupyter notebook ai_services_example.ipynb\n",
    "```\n",
    "\n",
    "### Production Considerations\n",
    "1. **Rate Limiting**: Implement rate limiting to avoid API quota issues\n",
    "2. **Caching**: Cache similar requests to reduce costs\n",
    "3. **Error Handling**: Always have fallback responses ready\n",
    "4. **Monitoring**: Track API usage and costs\n",
    "5. **User Consent**: Ensure users consent to AI-generated content\n",
    "6. **Security**: Never commit API keys to version control\n",
    "\n",
    "### Integration Example\n",
    "```python\n",
    "from app.ai_services import ai_service\n",
    "\n",
    "@app.post(\"/generate-challenge\")\n",
    "async def generate_challenge(user_id: int, db: Session = Depends(get_db)):\n",
    "    user = db.query(User).filter(User.id == user_id).first()\n",
    "    challenge = await ai_service.generate_personalized_challenge(\n",
    "        user=user,\n",
    "        user_history=get_user_history(user_id),\n",
    "        preferences=get_user_preferences(user_id)\n",
    "    )\n",
    "    return challenge\n",
    "```"
   ]
  },
  {
   "cell_type": "code",
   "execution_count": 14,
   "metadata": {},
   "outputs": [
    {
     "name": "stdout",
     "output_type": "stream",
     "text": [
      "\n",
      "\n",
      "🎉 AI Services Demo Complete!\n",
      "\n",
      "Key Features Demonstrated:\n",
      "✅ Personalized Challenge Generation\n",
      "✅ Community Compatibility Matching\n",
      "✅ Personalized Encouragement\n",
      "✅ Fallback Behavior\n",
      "\n",
      "The AI service is ready for integration into your WorkoutBuddy application!\n"
     ]
    }
   ],
   "source": [
    "print(\"\\n\\n🎉 AI Services Demo Complete!\")\n",
    "print(\"\\nKey Features Demonstrated:\")\n",
    "print(\"✅ Personalized Challenge Generation\")\n",
    "print(\"✅ Community Compatibility Matching\")\n",
    "print(\"✅ Personalized Encouragement\")\n",
    "print(\"✅ Fallback Behavior\")\n",
    "print(\"\\nThe AI service is ready for integration into your WorkoutBuddy application!\")"
   ]
  }
 ],
 "metadata": {
  "kernelspec": {
   "display_name": "Python 3",
   "language": "python",
   "name": "python3"
  },
  "language_info": {
   "codemirror_mode": {
    "name": "ipython",
    "version": 3
   },
   "file_extension": ".py",
   "mimetype": "text/x-python",
   "name": "python",
   "nbconvert_exporter": "python",
   "pygments_lexer": "ipython3",
   "version": "3.11.0"
  }
 },
 "nbformat": 4,
 "nbformat_minor": 4
}
