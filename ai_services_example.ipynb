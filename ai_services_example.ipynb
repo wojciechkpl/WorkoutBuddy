{
 "cells": [
  {
   "cell_type": "markdown",
   "metadata": {},
   "source": [
    "# AI Services Example Notebook\n\n",
    "This notebook demonstrates how to use the `ai_services.py` module from the WorkoutBuddy ML backend.\n\n",
    "## Features Covered:\n",
    "1. **Personalized Challenge Generation** - AI-powered daily workout challenges\n",
    "2. **Community Compatibility Matching** - Find compatible workout partners\n",
    "3. **Personalized Encouragement** - Generate motivational messages\n\n",
    "## Prerequisites:\n",
    "- Set up the `ANTHROPIC_API_KEY` in `.envrc` file\n",
    "- Install required dependencies from `requirements.txt`\n",
    "- Have access to the database models"
   ]
  },
  {
   "cell_type": "code",
   "execution_count": null,
   "metadata": {},
   "outputs": [],
   "source": [
    "# Import required modules\n",
    "import sys\n",
    "import os\n",
    "import asyncio\n",
    "from datetime import datetime, timedelta\n",
    "from typing import Dict, List\n",
    "\n",
    "# Add the ml_backend path to sys.path\n",
    "sys.path.append('ml_backend')\n",
    "\n",
    "# Load environment variables from .envrc file\n",
    "def load_envrc():\n",
    "    \"\"\"Load environment variables from .envrc file\"\"\"\n",
    "    try:\n",
    "        with open('.envrc', 'r') as f:\n",
    "            for line in f:\n",
    "                line = line.strip()\n",
    "                if line and not line.startswith('#') and '=' in line:\n",
    "                    key, value = line.split('export ', 1)[1].split('=', 1)\n",
    "                    os.environ[key] = value\n",
    "        print(\"\u2705 Environment variables loaded from .envrc\")\n",
    "    except FileNotFoundError:\n",
    "        print(\"\u26a0\ufe0f  .envrc file not found. Please create one with ANTHROPIC_API_KEY\")\n",
    "    except Exception as e:\n",
    "        print(f\"\u274c Error loading .envrc: {e}\")\n",
    "\n",
    "# Load environment variables\n",
    "load_envrc()\n",
    "\n",
    "print(\"Environment setup complete!\")\n",
    "print(f\"Python version: {sys.version}\")\n",
    "print(f\"Working directory: {os.getcwd()}\")\n",
    "print(f\"API Key configured: {'\u2705' if os.getenv('ANTHROPIC_API_KEY') else '\u274c'}\")"
   ]
  },
  {
   "cell_type": "code",
   "execution_count": null,
   "metadata": {},
   "outputs": [],
   "source": [
    "# Import the AI service\ntry:\n    from app.ai_services import ai_service, ChallengeResponse, CommunityMatchResponse, EncouragementResponse\n    from app.core import models\n    print(\"\u2705 AI Services imported successfully!\")\n    print(f\"AI Service enabled: {ai_service.enabled}\")\nexcept ImportError as e:\n    print(f\"\u274c Import error: {e}\")\n    print(\"Make sure you're running from the correct directory and have installed dependencies\")"
   ]
  },
  {
   "cell_type": "markdown",
   "metadata": {},
   "source": [
    "## 1. Setup Mock Data\n\nSince we're running this notebook independently, we'll create mock user objects that match the database model structure."
   ]
  },
  {
   "cell_type": "code",
   "execution_count": null,
   "metadata": {},
   "outputs": [],
   "source": [
    "# Create mock user class for testing\nclass MockUser:\n    def __init__(self, user_id, goal_type=\"cardio\", activity_level=\"moderate\", \n                 year_of_birth=1990, first_name=\"John\", last_name=\"Doe\"):\n        self.id = user_id\n        self.goal_type = goal_type\n        self.activity_level = activity_level\n        self.year_of_birth = year_of_birth\n        self.first_name = first_name\n        self.last_name = last_name\n        self.motivation_style = \"encouraging\"\n        self.community_engagement_score = 0.7\n\nclass MockGoal:\n    def __init__(self, goal_id, title, user_id):\n        self.id = goal_id\n        self.title = title\n        self.owner_id = user_id\n\n# Create sample users\nuser1 = MockUser(1, \"cardio\", \"moderate\", 1985, \"Alice\", \"Johnson\")\nuser2 = MockUser(2, \"strength\", \"high\", 1990, \"Bob\", \"Smith\")\nuser3 = MockUser(3, \"flexibility\", \"low\", 1995, \"Carol\", \"Davis\")\nuser4 = MockUser(4, \"cardio\", \"moderate\", 1988, \"David\", \"Wilson\")\n\n# Create sample goals\ngoals_user1 = [MockGoal(1, \"Run 5K in under 25 minutes\", 1), MockGoal(2, \"Improve cardiovascular health\", 1)]\ngoals_user2 = [MockGoal(3, \"Bench press bodyweight\", 2), MockGoal(4, \"Build muscle mass\", 2)]\ngoals_user3 = [MockGoal(5, \"Touch toes without bending knees\", 3)]\ngoals_user4 = [MockGoal(6, \"Complete a marathon\", 4)]\n\nprint(\"Mock users and goals created successfully!\")\nprint(f\"User 1: {user1.first_name} {user1.last_name} - Goal: {user1.goal_type}, Activity: {user1.activity_level}\")\nprint(f\"User 2: {user2.first_name} {user2.last_name} - Goal: {user2.goal_type}, Activity: {user2.activity_level}\")\nprint(f\"User 3: {user3.first_name} {user3.last_name} - Goal: {user3.goal_type}, Activity: {user3.activity_level}\")\nprint(f\"User 4: {user4.first_name} {user4.last_name} - Goal: {user4.goal_type}, Activity: {user4.activity_level}\")"
   ]
  },
  {
   "cell_type": "markdown",
   "metadata": {},
   "source": [
    "## 2. Personalized Challenge Generation\n\nGenerate AI-powered personalized daily challenges based on user profile and history."
   ]
  },
  {
   "cell_type": "code",
   "execution_count": null,
   "metadata": {},
   "outputs": [],
   "source": [
    "# Example user history and preferences\nuser_history = {\n    \"recent_completion_rate\": \"85% - Very consistent\",\n    \"recent_challenges\": [\n        \"20-minute HIIT workout\",\n        \"Morning jog routine\",\n        \"Bodyweight circuit\"\n    ]\n}\n\nuser_preferences = {\n    \"equipment\": \"Dumbbells\",\n    \"time_minutes\": 20,\n    \"preferred_intensity\": \"moderate\"\n}\n\n# Generate personalized challenge\nasync def demo_challenge_generation():\n    print(\"\\n=== PERSONALIZED CHALLENGE GENERATION ===\")\n    print(f\"Generating challenge for: {user1.first_name} {user1.last_name}\")\n    print(f\"Goal Type: {user1.goal_type}\")\n    print(f\"Activity Level: {user1.activity_level}\")\n    print(f\"Age: {datetime.now().year - user1.year_of_birth}\")\n    \n    challenge = await ai_service.generate_personalized_challenge(\n        user=user1,\n        user_history=user_history,\n        preferences=user_preferences\n    )\n    \n    print(\"\\n\ud83d\udccb Generated Challenge:\")\n    print(f\"Title: {challenge.title}\")\n    print(f\"Description: {challenge.description}\")\n    print(f\"Duration: {challenge.duration}\")\n    print(f\"Difficulty: {challenge.difficulty}/5\")\n    print(f\"Equipment Needed: {challenge.equipment_needed}\")\n    print(f\"Motivation: {challenge.motivation_message}\")\n    print(f\"AI Generated: {challenge.ai_generated}\")\n    \n    return challenge\n\n# Run the challenge generation\nchallenge_result = await demo_challenge_generation()"
   ]
  },
  {
   "cell_type": "code",
   "execution_count": null,
   "metadata": {},
   "outputs": [],
   "source": [
    "async def test_different_user_challenges():\n    users_to_test = [user2, user3]  # Strength and flexibility users\n    \n    for user in users_to_test:\n        print(f\"\\n\\n=== CHALLENGE FOR {user.first_name.upper()} ===\")\n        print(f\"Goal: {user.goal_type} | Activity Level: {user.activity_level}\")\n        \n        # Adjust history based on user type\n        adapted_history = {\n            \"recent_completion_rate\": \"70% - Good progress\",\n            \"recent_challenges\": [\n                f\"{user.goal_type.title()} focused workout\",\n                \"Beginner routine\"\n            ]\n        }\n        \n        challenge = await ai_service.generate_personalized_challenge(\n            user=user,\n            user_history=adapted_history,\n            preferences={\"time_minutes\": 15}\n        )\n        \n        print(f\"\ud83d\udccb {challenge.title}\")\n        print(f\"\ud83d\udcdd {challenge.description}\")\n        print(f\"\u23f1\ufe0f Duration: {challenge.duration}\")\n        print(f\"\ud83d\udcaa Motivation: {challenge.motivation_message}\")\n\nawait test_different_user_challenges()"
   ]
  },
  {
   "cell_type": "markdown",
   "metadata": {},
   "source": [
    "## 3. Community Compatibility Matching\n\nDemonstrate AI-powered matching between users for accountability partnerships."
   ]
  },
  {
   "cell_type": "code",
   "execution_count": null,
   "metadata": {},
   "outputs": [],
   "source": [
    "async def demo_community_matching():\n    print(\"\\n\\n=== COMMUNITY COMPATIBILITY MATCHING ===\")\n    print(f\"Finding matches for: {user1.first_name} {user1.last_name}\")\n    print(f\"Looking for accountability partners...\")\n    \n    # Potential matches (excluding the user themselves)\n    potential_matches = [user2, user3, user4]\n    \n    # Goals for each user\n    match_goals = {\n        user2.id: goals_user2,\n        user3.id: goals_user3,\n        user4.id: goals_user4\n    }\n    \n    matches = await ai_service.analyze_community_compatibility(\n        user=user1,\n        potential_matches=potential_matches,\n        user_goals=goals_user1,\n        match_goals=match_goals\n    )\n    \n    print(f\"\\n\ud83e\udd1d Found {len(matches)} potential matches:\")\n    print(\"=\" * 50)\n    \n    for i, match in enumerate(matches, 1):\n        print(f\"\\n#{i} Match: {match.name}\")\n        print(f\"\ud83c\udfaf Compatibility Score: {match.compatibility_score:.1%}\")\n        print(f\"\ud83d\udca1 Why they're a good match:\")\n        for reason in match.match_reasons:\n            print(f\"   \u2022 {reason}\")\n        print(f\"\ud83c\udfc3 Shared Interests: {', '.join(match.shared_interests)}\")\n    \n    return matches\n\nmatches_result = await demo_community_matching()"
   ]
  },
  {
   "cell_type": "markdown",
   "metadata": {},
   "source": [
    "## 4. Personalized Encouragement Generation\n\nGenerate contextual encouragement messages based on user progress and sentiment."
   ]
  },
  {
   "cell_type": "code",
   "execution_count": null,
   "metadata": {},
   "outputs": [],
   "source": [
    "async def demo_encouragement_generation():\n    print(\"\\n\\n=== PERSONALIZED ENCOURAGEMENT GENERATION ===\")\n    \n    # Different user contexts to test\n    test_scenarios = [\n        {\n            \"name\": \"High Performer\",\n            \"context\": {\n                \"recent_checkin\": \"Completed 5K run in 24:30 - new personal record!\",\n                \"progress_trend\": \"Improving consistently\",\n                \"engagement_level\": \"High\",\n                \"days_since_last\": 1,\n                \"recent_challenges_completed\": 6\n            }\n        },\n        {\n            \"name\": \"Struggling User\",\n            \"context\": {\n                \"recent_checkin\": \"Missed workouts this week, feeling unmotivated\",\n                \"progress_trend\": \"Declining\",\n                \"engagement_level\": \"Low\",\n                \"days_since_last\": 7,\n                \"recent_challenges_completed\": 1\n            }\n        },\n        {\n            \"name\": \"Comeback User\",\n            \"context\": {\n                \"recent_checkin\": \"Back to working out after a break\",\n                \"progress_trend\": \"Stable\",\n                \"engagement_level\": \"Medium\",\n                \"days_since_last\": 3,\n                \"recent_challenges_completed\": 2\n            }\n        }\n    ]\n    \n    for scenario in test_scenarios:\n        print(f\"\\n\ud83d\udcf1 Scenario: {scenario['name']}\")\n        print(f\"Context: {scenario['context']['recent_checkin']}\")\n        \n        encouragement = await ai_service.generate_encouragement(\n            user=user1,\n            context=scenario['context']\n        )\n        \n        print(f\"\\n\ud83d\udcac Generated Encouragement:\")\n        print(f\"Message: \\\"{encouragement.message}\\\"\")\n        print(f\"Tone: {encouragement.tone}\")\n        print(f\"Personalized: {encouragement.personalized}\")\n        print(f\"Suggestions:\")\n        for suggestion in encouragement.suggestions:\n            print(f\"   \u2022 {suggestion}\")\n        print(\"-\" * 50)\n\nawait demo_encouragement_generation()"
   ]
  },
  {
   "cell_type": "markdown",
   "metadata": {},
   "source": [
    "## 5. Fallback Behavior Testing\n\nTest how the service behaves when AI is unavailable (without API key)."
   ]
  },
  {
   "cell_type": "code",
   "execution_count": null,
   "metadata": {},
   "outputs": [],
   "source": [
    "async def demo_fallback_behavior():\n    print(\"\\n\\n=== FALLBACK BEHAVIOR TESTING ===\")\n    print(\"Testing AI service without API key (fallback mode)\")\n    \n    # Create a service instance without API key\n    from app.ai_services import AIService\n    \n    # Temporarily remove API key\n    original_key = os.environ.get('ANTHROPIC_API_KEY')\n    if 'ANTHROPIC_API_KEY' in os.environ:\n        del os.environ['ANTHROPIC_API_KEY']\n    \n    fallback_service = AIService()\n    \n    print(f\"AI Service enabled: {fallback_service.enabled}\")\n    \n    # Test fallback challenge generation\n    print(\"\\n\ud83d\udccb Fallback Challenge Generation:\")\n    fallback_challenge = await fallback_service.generate_personalized_challenge(\n        user=user2,  # strength user\n        user_history=user_history\n    )\n    \n    print(f\"Title: {fallback_challenge.title}\")\n    print(f\"Description: {fallback_challenge.description}\")\n    print(f\"AI Generated: {fallback_challenge.ai_generated}\")\n    \n    # Test fallback encouragement\n    print(\"\\n\ud83d\udcac Fallback Encouragement:\")\n    fallback_encouragement = await fallback_service.generate_encouragement(\n        user=user1,\n        context={\"progress_trend\": \"stable\"}\n    )\n    \n    print(f\"Message: \\\"{fallback_encouragement.message}\\\"\")\n    print(f\"Personalized: {fallback_encouragement.personalized}\")\n    \n    # Restore API key\n    if original_key:\n        os.environ['ANTHROPIC_API_KEY'] = original_key\n    \n    print(\"\\n\u2705 Fallback testing completed!\")\n\nawait demo_fallback_behavior()"
   ]
  },
  {
   "cell_type": "markdown",
   "metadata": {},
   "source": [
    "## 6. Usage Instructions\n\n",
    "### Environment Setup\n",
    "```bash\n",
    "# Make sure .envrc file contains your API key:\n",
    "# export ANTHROPIC_API_KEY=\"your-api-key-here\"\n\n",
    "# If using direnv (recommended):\n",
    "direnv allow\n\n",
    "# Or manually source the file:\n",
    "source .envrc\n\n",
    "# Install dependencies\n",
    "pip install -r ml_backend/requirements.txt\n\n",
    "# Start Jupyter\n",
    "jupyter notebook\n",
    "```\n\n",
    "### Production Considerations\n",
    "1. **Rate Limiting**: Implement rate limiting to avoid API quota issues\n",
    "2. **Caching**: Cache similar requests to reduce costs\n",
    "3. **Error Handling**: Always have fallback responses ready\n",
    "4. **Monitoring**: Track API usage and costs\n",
    "5. **User Consent**: Ensure users consent to AI-generated content\n",
    "6. **Security**: Never commit API keys to version control\n\n",
    "### Integration Example\n",
    "```python\n",
    "from app.ai_services import ai_service\n\n",
    "@app.post(\"/generate-challenge\")\n",
    "async def generate_challenge(user_id: int, db: Session = Depends(get_db)):\n",
    "    user = db.query(User).filter(User.id == user_id).first()\n",
    "    challenge = await ai_service.generate_personalized_challenge(\n",
    "        user=user,\n",
    "        user_history=get_user_history(user_id),\n",
    "        preferences=get_user_preferences(user_id)\n",
    "    )\n",
    "    return challenge\n",
    "```"
   ]
  },
  {
   "cell_type": "code",
   "execution_count": null,
   "metadata": {},
   "outputs": [],
   "source": [
    "print(\"\\n\\n\ud83c\udf89 AI Services Demo Complete!\")\nprint(\"\\nKey Features Demonstrated:\")\nprint(\"\u2705 Personalized Challenge Generation\")\nprint(\"\u2705 Community Compatibility Matching\")\nprint(\"\u2705 Personalized Encouragement\")\nprint(\"\u2705 Fallback Behavior\")\nprint(\"\\nThe AI service is ready for integration into your WorkoutBuddy application!\")"
   ]
  }
 ],
 "metadata": {
  "kernelspec": {
   "display_name": "Python 3",
   "language": "python",
   "name": "python3"
  },
  "language_info": {
   "codemirror_mode": {
    "name": "ipython",
    "version": 3
   },
   "file_extension": ".py",
   "mimetype": "text/x-python",
   "name": "python",
   "nbconvert_exporter": "python",
   "pygments_lexer": "ipython3",
   "version": "3.11.0"
  }
 },
 "nbformat": 4,
 "nbformat_minor": 4
}