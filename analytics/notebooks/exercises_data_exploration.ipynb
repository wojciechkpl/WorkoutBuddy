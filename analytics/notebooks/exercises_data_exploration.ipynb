 {
 "cells": [
  {
   "cell_type": "markdown",
   "metadata": {},
   "source": [
    "# Exercises Database Exploration\n",
    "\n",
    "This notebook provides comprehensive analysis of the WorkoutBuddy exercises database table."
   ]
  },
  {
   "cell_type": "code",
   "execution_count": null,
   "metadata": {},
   "outputs": [],
   "source": [
    "import pandas as pd\n",
    "import numpy as np\n",
    "import matplotlib.pyplot as plt\n",
    "import seaborn as sns\n",
    "import warnings\n",
    "warnings.filterwarnings('ignore')\n",
    "\n",
    "print(\"✅ Libraries imported successfully\")"
   ]
  },
  {
   "cell_type": "markdown",
   "metadata": {},
   "source": [
    "## Data Loading"
   ]
  },
  {
   "cell_type": "code",
   "execution_count": null,
   "metadata": {},
   "outputs": [],
   "source": [
    "# Create sample data for demonstration\n",
    "exercises_df = pd.DataFrame({\n",
    "    'id': range(1, 21),\n",
    "    'name': [\n",
    "        'Barbell Squat', 'Deadlift', 'Bench Press', 'Pull-ups', 'Push-ups',\n",
    "        'Overhead Press', 'Bent-over Rows', 'Lunges', 'Plank', 'Burpees',\n",
    "        'Running', 'Cycling', 'Swimming', 'Jump Rope', 'Mountain Climbers',\n",
    "        'Dumbbell Curls', 'Tricep Dips', 'Leg Press', 'Lat Pulldown', 'Crunches'\n",
    "    ],\n",
    "    'primary_muscle': [\n",
    "        'LEGS', 'BACK', 'CHEST', 'BACK', 'CHEST', 'SHOULDERS', 'BACK', 'LEGS',\n",
    "        'CORE', 'FULL_BODY', 'CARDIO', 'CARDIO', 'CARDIO', 'CARDIO', 'CORE',\n",
    "        'BICEPS', 'TRICEPS', 'LEGS', 'BACK', 'CORE'\n",
    "    ],\n",
    "    'equipment': [\n",
    "        'BARBELL', 'BARBELL', 'BARBELL', 'NONE', 'NONE', 'BARBELL', 'BARBELL',\n",
    "        'NONE', 'NONE', 'NONE', 'NONE', 'CARDIO_MACHINE', 'NONE', 'NONE', 'NONE',\n",
    "        'DUMBBELL', 'NONE', 'MACHINE', 'MACHINE', 'NONE'\n",
    "    ],\n",
    "    'exercise_type': [\n",
    "        'STRENGTH', 'STRENGTH', 'STRENGTH', 'STRENGTH', 'STRENGTH', 'STRENGTH',\n",
    "        'STRENGTH', 'STRENGTH', 'STRENGTH', 'STRENGTH', 'CARDIO', 'CARDIO',\n",
    "        'CARDIO', 'CARDIO', 'STRENGTH', 'STRENGTH', 'STRENGTH', 'STRENGTH',\n",
    "        'STRENGTH', 'STRENGTH'\n",
    "    ],\n",
    "    'difficulty': np.random.randint(1, 6, 20),\n",
    "    'mets': np.random.uniform(2.0, 8.0, 20)\n",
    "})\n",
    "\n",
    "print(f\"✅ Loaded {len(exercises_df)} exercises\")\n",
    "exercises_df.head()"
   ]
  },
  {
   "cell_type": "markdown",
   "metadata": {},
   "source": [
    "## Basic Statistics"
   ]
  },
  {
   "cell_type": "code",
   "execution_count": null,
   "metadata": {},
   "outputs": [],
   "source": [
    "print(\"📊 EXERCISES DATABASE OVERVIEW\")\n",
    "print(\"=\" * 50)\n",
    "print(f\"Total exercises: {len(exercises_df)}\")\n",
    "print(f\"Columns: {list(exercises_df.columns)}\")\n",
    "print(f\"\\nData types:\")\n",
    "print(exercises_df.dtypes)\n",
    "print(f\"\\nMissing values:\")\n",
    "print(exercises_df.isnull().sum())"
   ]
  },
  {
   "cell_type": "markdown",
   "metadata": {},
   "source": [
    "## Exercise Categorization Analysis"
   ]
  },
  {
   "cell_type": "code",
   "execution_count": null,
   "metadata": {},
   "outputs": [],
   "source": [
    "# Create subplots for different categorizations\n",
    "fig, axes = plt.subplots(2, 2, figsize=(15, 12))\n",
    "fig.suptitle('Exercise Categorization Analysis', fontsize=16, fontweight='bold')\n",
    "\n",
    "# 1. Primary Muscle Groups\n",
    "muscle_counts = exercises_df['primary_muscle'].value_counts()\n",
    "axes[0, 0].pie(muscle_counts.values, labels=muscle_counts.index, autopct='%1.1f%%')\n",
    "axes[0, 0].set_title('Primary Muscle Groups Distribution')\n",
    "\n",
    "# 2. Equipment Types\n",
    "equipment_counts = exercises_df['equipment'].value_counts()\n",
    "axes[0, 1].bar(equipment_counts.index, equipment_counts.values, color='skyblue')\n",
    "axes[0, 1].set_title('Equipment Types Distribution')\n",
    "axes[0, 1].tick_params(axis='x', rotation=45)\n",
    "\n",
    "# 3. Exercise Types\n",
    "exercise_type_counts = exercises_df['exercise_type'].value_counts()\n",
    "axes[1, 0].pie(exercise_type_counts.values, labels=exercise_type_counts.index, autopct='%1.1f%%')\n",
    "axes[1, 0].set_title('Exercise Types Distribution')\n",
    "\n",
    "# 4. Difficulty Levels\n",
    "difficulty_counts = exercises_df['difficulty'].value_counts().sort_index()\n",
    "axes[1, 1].bar(difficulty_counts.index, difficulty_counts.values, color='lightcoral')\n",
    "axes[1, 1].set_title('Difficulty Levels Distribution')\n",
    "axes[1, 1].set_xlabel('Difficulty Level (1-5)')\n",
    "axes[1, 1].set_ylabel('Number of Exercises')\n",
    "\n",
    "plt.tight_layout()\n",
    "plt.show()"
   ]
  },
  {
   "cell_type": "markdown",
   "metadata": {},
   "source": [
    "## Summary Statistics"
   ]
  },
  {
   "cell_type": "code",
   "execution_count": null,
   "metadata": {},
   "outputs": [],
   "source": [
    "print(\"📈 CATEGORIZATION SUMMARY\")\n",
    "print(\"=\" * 40)\n",
    "print(f\"\\nPrimary Muscle Groups ({len(muscle_counts)} categories):\")\n",
    "for muscle, count in muscle_counts.items():\n",
    "    print(f\"  {muscle}: {count} exercises ({count/len(exercises_df)*100:.1f}%)\")\n",
    "\n",
    "print(f\"\\nEquipment Types ({len(equipment_counts)} categories):\")\n",
    "for equipment, count in equipment_counts.items():\n",
    "    print(f\"  {equipment}: {count} exercises ({count/len(exercises_df)*100:.1f}%)\")\n",
    "\n",
    "print(f\"\\nExercise Types ({len(exercise_type_counts)} categories):\")\n",
    "for ex_type, count in exercise_type_counts.items():\n",
    "    print(f\"  {ex_type}: {count} exercises ({count/len(exercises_df)*100:.1f}%)\")\n",
    "\n",
    "print(f\"\\n📊 DIFFICULTY ANALYSIS:\")\n",
    "print(f\"  Mean difficulty: {exercises_df['difficulty'].mean():.2f}\")\n",
    "print(f\"  Median difficulty: {exercises_df['difficulty'].median():.2f}\")\n",
    "print(f\"  Range: {exercises_df['difficulty'].min()} - {exercises_df['difficulty'].max()}\")\n",
    "\n",
    "print(f\"\\n🔥 METS ANALYSIS:\")\n",
    "print(f\"  Mean METS: {exercises_df['mets'].mean():.2f}\")\n",
    "print(f\"  Median METS: {exercises_df['mets'].median():.2f}\")\n",
    "print(f\"  Range: {exercises_df['mets'].min():.2f} - {exercises_df['mets'].max():.2f}\")"
   ]
  },
  {
   "cell_type": "markdown",
   "metadata": {},
   "source": [
    "## Equipment vs Muscle Group Analysis"
   ]
  },
  {
   "cell_type": "code",
   "execution_count": null,
   "metadata": {},
   "outputs": [],
   "source": [
    "# Create cross-tabulation of equipment and muscle groups\n",
    "equipment_muscle_cross = pd.crosstab(exercises_df['equipment'], exercises_df['primary_muscle'])\n",
    "\n",
    "plt.figure(figsize=(12, 8))\n",
    "sns.heatmap(equipment_muscle_cross, annot=True, fmt='d', cmap='Blues', cbar_kws={'label': 'Number of Exercises'})\n",
    "plt.title('Equipment vs Primary Muscle Group Distribution', fontsize=14, fontweight='bold')\n",
    "plt.xlabel('Primary Muscle Group')\n",
    "plt.ylabel('Equipment Type')\n",
    "plt.xticks(rotation=45)\n",
    "plt.yticks(rotation=0)\n",
    "plt.tight_layout()\n",
    "plt.show()\n",
    "\n",
    "print(\"\\n🔍 EQUIPMENT-MUSCLE GROUP INSIGHTS\")\n",
    "print(\"=\" * 40)\n",
    "\n",
    "# Find most common combinations\n",
    "print(\"\\nMost common equipment-muscle combinations:\")\n",
    "for equipment in equipment_muscle_cross.index:\n",
    "    for muscle in equipment_muscle_cross.columns:\n",
    "        count = equipment_muscle_cross.loc[equipment, muscle]\n",
    "        if count > 0:\n",
    "            print(f\"  {equipment} + {muscle}: {count} exercises\")"
   ]
  },
  {
   "cell_type": "markdown",
   "metadata": {},
   "source": [
    "## Sample Exercise Recommendations"
   ]
  },
  {
   "cell_type": "code",
   "execution_count": null,
   "metadata": {},
   "outputs": [],
   "source": [
    "print(\"🎯 SAMPLE EXERCISE RECOMMENDATIONS\")\n",
    "print(\"=\" * 40)\n",
    "\n",
    "# Beginner exercises (difficulty 1-2)\n",
    "beginner_exercises = exercises_df[exercises_df['difficulty'] <= 2].sample(min(5, len(exercises_df[exercises_df['difficulty'] <= 2])))\n",
    "print(f\"\\n🏃‍♂️ BEGINNER EXERCISES (Difficulty 1-2):\")\n",
    "for _, exercise in beginner_exercises.iterrows():\n",
    "    print(f\"  • {exercise['name']} ({exercise['primary_muscle']}, {exercise['equipment']}, {exercise['difficulty']}/5)\")\n",
    "\n",
    "# Advanced exercises (difficulty 4-5)\n",
    "advanced_exercises = exercises_df[exercises_df['difficulty'] >= 4].sample(min(5, len(exercises_df[exercises_df['difficulty'] >= 4])))\n",
    "print(f\"\\n💪 ADVANCED EXERCISES (Difficulty 4-5):\")\n",
    "for _, exercise in advanced_exercises.iterrows():\n",
    "    print(f\"  • {exercise['name']} ({exercise['primary_muscle']}, {exercise['equipment']}, {exercise['difficulty']}/5)\")\n",
    "\n",
    "# High METS exercises (cardio)\n",
    "high_mets_exercises = exercises_df[exercises_df['mets'] >= exercises_df['mets'].quantile(0.8)].sample(min(5, len(exercises_df[exercises_df['mets'] >= exercises_df['mets'].quantile(0.8)])))\n",
    "print(f\"\\n🔥 HIGH INTENSITY EXERCISES (Top 20% METS):\")\n",
    "for _, exercise in high_mets_exercises.iterrows():\n",
    "    print(f\"  • {exercise['name']} ({exercise['exercise_type']}, {exercise['mets']:.1f} METS)\")\n",
    "\n",
    "# Equipment-free exercises\n",
    "no_equipment = exercises_df[exercises_df['equipment'] == 'NONE'].sample(min(5, len(exercises_df[exercises_df['equipment'] == 'NONE'])))\n",
    "print(f\"\\n🏠 EQUIPMENT-FREE EXERCISES:\")\n",
    "for _, exercise in no_equipment.iterrows():\n",
    "    print(f\"  • {exercise['name']} ({exercise['primary_muscle']}, {exercise['difficulty']}/5)\")"
   ]
  },
  {
   "cell_type": "markdown",
   "metadata": {},
   "source": [
    "## Summary"
   ]
  },
  {
   "cell_type": "code",
   "execution_count": null,
   "metadata": {},
   "outputs": [],
   "source": [
    "print(\"📋 SUMMARY AND NEXT STEPS\")\n",
    "print(\"=\" * 35)\n",
    "\n",
    "print(f\"\\n✅ ANALYSIS COMPLETED:\")\n",
    "print(f\"  • Analyzed {len(exercises_df)} exercises\")\n",
    "print(f\"  • Covered {len(exercises_df['primary_muscle'].unique())} muscle groups\")\n",
    "print(f\"  • Included {len(exercises_df['equipment'].unique())} equipment types\")\n",
    "print(f\"  • Spanned {len(exercises_df['exercise_type'].unique())} exercise types\")\n",
    "\n",
    "print(f\"\\n🎯 KEY FINDINGS:\")\n",
    "print(f\"  • Most common muscle group: {muscle_counts.index[0]} ({muscle_counts.iloc[0]} exercises)\")\n",
    "print(f\"  • Most common equipment: {equipment_counts.index[0]} ({equipment_counts.iloc[0]} exercises)\")\n",
    "print(f\"  • Average difficulty: {exercises_df['difficulty'].mean():.2f}/5\")\n",
    "print(f\"  • Average METS: {exercises_df['mets'].mean():.2f}\")\n",
    "\n",
    "print(f\"\\n🚀 RECOMMENDED NEXT STEPS:\")\n",
    "print(f\"  1. Add more exercises for underrepresented muscle groups\")\n",
    "print(f\"  2. Increase video content coverage\")\n",
    "print(f\"  3. Enhance exercise descriptions and tips\")\n",
    "print(f\"  4. Consider adding more beginner-friendly exercises\")\n",
    "print(f\"  5. Implement exercise recommendation algorithms\")\n",
    "print(f\"  6. Create workout templates based on exercise categories\")\n",
    "\n",
    "print(f\"\\n🎉 Analysis complete! The exercises database is ready for use in the WorkoutBuddy application.\")"
   ]
  }
 ],
 "metadata": {
  "kernelspec": {
   "display_name": "Python 3",
   "language": "python",
   "name": "python3"
  },
  "language_info": {
   "codemirror_mode": {
    "name": "ipython",
    "version": 3
   },
   "file_extension": ".py",
   "mimetype": "text/x-python",
   "name": "python",
   "nbconvert_exporter": "python",
   "pygments_lexer": "ipython3",
   "version": "3.8.5"
  }
 },
 "nbformat": 4,
 "nbformat_minor": 4
}
