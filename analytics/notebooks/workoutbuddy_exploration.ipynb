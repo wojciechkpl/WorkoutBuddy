{
 "cells": [
  {
   "cell_type": "markdown",
   "metadata": {},
   "source": [
    "# WorkoutBuddy Database Exploration\n",
    "\n",
    "This notebook provides comprehensive exploration and analysis of the WorkoutBuddy database.\n",
    "\n",
    "## 📊 What you'll find here:\n",
    "- Database connection and basic queries\n",
    "- Exercise data analysis and visualization\n",
    "- User and goal statistics (when available)\n",
    "- Data quality checks\n",
    "- Interactive visualizations\n",
    "- Machine learning insights preparation"
   ]
  },
  {
   "cell_type": "markdown",
   "metadata": {},
   "source": [
    "## 🚀 Setup and Imports"
   ]
  },
  {
   "cell_type": "code",
   "execution_count": 1,
   "metadata": {},
   "outputs": [
    {
     "name": "stdout",
     "output_type": "stream",
     "text": [
      "✅ All imports successful!\n"
     ]
    }
   ],
   "source": [
    "# Standard libraries\n",
    "import os\n",
    "import sys\n",
    "import pandas as pd\n",
    "import numpy as np\n",
    "from collections import Counter\n",
    "import warnings\n",
    "\n",
    "warnings.filterwarnings(\"ignore\")\n",
    "\n",
    "# Visualization libraries\n",
    "import matplotlib.pyplot as plt\n",
    "import seaborn as sns\n",
    "import plotly.express as px\n",
    "import plotly.graph_objects as go\n",
    "from plotly.subplots import make_subplots\n",
    "\n",
    "# Database libraries\n",
    "from sqlalchemy import create_engine, text\n",
    "from sqlalchemy.orm import sessionmaker\n",
    "\n",
    "# Configure plotting\n",
    "plt.style.use(\"default\")\n",
    "sns.set_palette(\"husl\")\n",
    "%matplotlib inline\n",
    "\n",
    "# Add app directory to path\n",
    "sys.path.append(\"app\")\n",
    "\n",
    "print(\"✅ All imports successful!\")"
   ]
  },
  {
   "cell_type": "markdown",
   "metadata": {},
   "source": [
    "## 🔌 Database Connection"
   ]
  },
  {
   "cell_type": "code",
   "execution_count": 2,
   "metadata": {},
   "outputs": [
    {
     "name": "stdout",
     "output_type": "stream",
     "text": [
      "📡 Using environment database URL: postgresql://wojciechkowalinski@***\n",
      "✅ Database connection successful!\n"
     ]
    }
   ],
   "source": [
    "# Import configuration\n",
    "try:\n",
    "    from app.config import backend_config\n",
    "\n",
    "    DATABASE_URL = backend_config.database.url\n",
    "    print(f\"📡 Using config database URL: {DATABASE_URL.split('@')[0]}@***\")\n",
    "except ImportError:\n",
    "    # Fallback to environment variable\n",
    "    DATABASE_URL = os.getenv(\n",
    "        \"DATABASE_URL\", \"postgresql://wojciechkowalinski@localhost/workoutbuddy\"\n",
    "    )\n",
    "    print(f\"📡 Using environment database URL: {DATABASE_URL.split('@')[0]}@***\")\n",
    "\n",
    "# Create engine and session\n",
    "engine = create_engine(DATABASE_URL)\n",
    "Session = sessionmaker(bind=engine)\n",
    "\n",
    "# Test connection\n",
    "try:\n",
    "    with engine.connect() as conn:\n",
    "        result = conn.execute(text(\"SELECT 1\"))\n",
    "        print(\"✅ Database connection successful!\")\n",
    "except Exception as e:\n",
    "    print(f\"❌ Database connection failed: {e}\")\n",
    "    raise"
   ]
  },
  {
   "cell_type": "markdown",
   "metadata": {},
   "source": [
    "## 🏋️ Exercise Data Analysis"
   ]
  },
  {
   "cell_type": "code",
   "execution_count": 3,
   "metadata": {},
   "outputs": [
    {
     "name": "stdout",
     "output_type": "stream",
     "text": [
      "🏋️ Loaded 158 exercises\n",
      "📊 Data shape: (158, 8)\n"
     ]
    },
    {
     "data": {
      "text/html": [
       "<div>\n",
       "<style scoped>\n",
       "    .dataframe tbody tr th:only-of-type {\n",
       "        vertical-align: middle;\n",
       "    }\n",
       "\n",
       "    .dataframe tbody tr th {\n",
       "        vertical-align: top;\n",
       "    }\n",
       "\n",
       "    .dataframe thead th {\n",
       "        text-align: right;\n",
       "    }\n",
       "</style>\n",
       "<table border=\"1\" class=\"dataframe\">\n",
       "  <thead>\n",
       "    <tr style=\"text-align: right;\">\n",
       "      <th></th>\n",
       "      <th>id</th>\n",
       "      <th>name</th>\n",
       "      <th>description</th>\n",
       "      <th>main_muscle_group</th>\n",
       "      <th>equipment</th>\n",
       "      <th>difficulty</th>\n",
       "      <th>form_cues</th>\n",
       "      <th>visual_reference</th>\n",
       "    </tr>\n",
       "  </thead>\n",
       "  <tbody>\n",
       "    <tr>\n",
       "      <th>0</th>\n",
       "      <td>452</td>\n",
       "      <td>Arnold Press</td>\n",
       "      <td>Rotating shoulder press movement</td>\n",
       "      <td></td>\n",
       "      <td></td>\n",
       "      <td>Intermediate</td>\n",
       "      <td>• Start palms facing body • Press and rotate •...</td>\n",
       "      <td></td>\n",
       "    </tr>\n",
       "    <tr>\n",
       "      <th>1</th>\n",
       "      <td>484</td>\n",
       "      <td>Assisted Dips</td>\n",
       "      <td>Dips with assistance</td>\n",
       "      <td></td>\n",
       "      <td></td>\n",
       "      <td>Beginner</td>\n",
       "      <td>• Use assistance • Focus on form • Lower and p...</td>\n",
       "      <td></td>\n",
       "    </tr>\n",
       "    <tr>\n",
       "      <th>2</th>\n",
       "      <td>480</td>\n",
       "      <td>Assisted Pull-ups</td>\n",
       "      <td>Pull-ups with assistance</td>\n",
       "      <td></td>\n",
       "      <td></td>\n",
       "      <td>Beginner</td>\n",
       "      <td>• Use assistance • Focus on form • Pull chin o...</td>\n",
       "      <td></td>\n",
       "    </tr>\n",
       "    <tr>\n",
       "      <th>3</th>\n",
       "      <td>415</td>\n",
       "      <td>Barbell 21s</td>\n",
       "      <td>Bicep curls in three ranges (7+7+7)</td>\n",
       "      <td></td>\n",
       "      <td></td>\n",
       "      <td>Intermediate</td>\n",
       "      <td>• 7 bottom half reps • 7 top half reps • 7 ful...</td>\n",
       "      <td></td>\n",
       "    </tr>\n",
       "    <tr>\n",
       "      <th>4</th>\n",
       "      <td>393</td>\n",
       "      <td>Barbell Back Squat</td>\n",
       "      <td>1) Stand with barbell on shoulders; 2)  squat ...</td>\n",
       "      <td></td>\n",
       "      <td></td>\n",
       "      <td>Intermediate</td>\n",
       "      <td>• Feet shoulder-width apart • Chest up, core t...</td>\n",
       "      <td>ExRx.net/WeightExercises/Quadriceps/BBSquat</td>\n",
       "    </tr>\n",
       "  </tbody>\n",
       "</table>\n",
       "</div>"
      ],
      "text/plain": [
       "    id                name                                        description  \\\n",
       "0  452        Arnold Press                   Rotating shoulder press movement   \n",
       "1  484       Assisted Dips                               Dips with assistance   \n",
       "2  480   Assisted Pull-ups                           Pull-ups with assistance   \n",
       "3  415         Barbell 21s                Bicep curls in three ranges (7+7+7)   \n",
       "4  393  Barbell Back Squat  1) Stand with barbell on shoulders; 2)  squat ...   \n",
       "\n",
       "  main_muscle_group equipment    difficulty  \\\n",
       "0                              Intermediate   \n",
       "1                                  Beginner   \n",
       "2                                  Beginner   \n",
       "3                              Intermediate   \n",
       "4                              Intermediate   \n",
       "\n",
       "                                           form_cues  \\\n",
       "0  • Start palms facing body • Press and rotate •...   \n",
       "1  • Use assistance • Focus on form • Lower and p...   \n",
       "2  • Use assistance • Focus on form • Pull chin o...   \n",
       "3  • 7 bottom half reps • 7 top half reps • 7 ful...   \n",
       "4  • Feet shoulder-width apart • Chest up, core t...   \n",
       "\n",
       "                              visual_reference  \n",
       "0                                               \n",
       "1                                               \n",
       "2                                               \n",
       "3                                               \n",
       "4  ExRx.net/WeightExercises/Quadriceps/BBSquat  "
      ]
     },
     "execution_count": 3,
     "metadata": {},
     "output_type": "execute_result"
    }
   ],
   "source": [
    "# Load exercise data\n",
    "exercises_query = \"\"\"\n",
    "SELECT \n",
    "    id,\n",
    "    name,\n",
    "    description,\n",
    "    main_muscle_group,\n",
    "    equipment,\n",
    "    difficulty,\n",
    "    form_cues,\n",
    "    visual_reference\n",
    "FROM exercises\n",
    "ORDER BY name;\n",
    "\"\"\"\n",
    "\n",
    "exercises_df = pd.read_sql(exercises_query, engine)\n",
    "print(f\"🏋️ Loaded {len(exercises_df)} exercises\")\n",
    "print(f\"📊 Data shape: {exercises_df.shape}\")\n",
    "exercises_df.head()"
   ]
  },
  {
   "cell_type": "code",
   "execution_count": 4,
   "metadata": {},
   "outputs": [
    {
     "name": "stdout",
     "output_type": "stream",
     "text": [
      "🎯 Top 10 Muscle Groups:\n",
      "main_muscle_group\n",
      "    158\n",
      "Name: count, dtype: int64\n"
     ]
    },
    {
     "data": {
      "image/png": "[encoded data removed]",
      "text/plain": [
       "<Figure size 1600x600 with 2 Axes>"
      ]
     },
     "metadata": {},
     "output_type": "display_data"
    }
   ],
   "source": [
    "# Analyze muscle group distribution\n",
    "muscle_groups = exercises_df[\"main_muscle_group\"].value_counts()\n",
    "print(\"🎯 Top 10 Muscle Groups:\")\n",
    "print(muscle_groups.head(10))\n",
    "\n",
    "# Create visualization\n",
    "fig, (ax1, ax2) = plt.subplots(1, 2, figsize=(16, 6))\n",
    "\n",
    "# Bar chart\n",
    "muscle_groups.head(10).plot(kind=\"bar\", ax=ax1, color=\"skyblue\")\n",
    "ax1.set_title(\"Top 10 Muscle Groups by Exercise Count\")\n",
    "ax1.set_xlabel(\"Muscle Group\")\n",
    "ax1.set_ylabel(\"Number of Exercises\")\n",
    "ax1.tick_params(axis=\"x\", rotation=45)\n",
    "\n",
    "# Pie chart\n",
    "muscle_groups.head(8).plot(kind=\"pie\", ax=ax2, autopct=\"%1.1f%%\")\n",
    "ax2.set_title(\"Exercise Distribution by Muscle Group (Top 8)\")\n",
    "ax2.set_ylabel(\"\")\n",
    "\n",
    "plt.tight_layout()\n",
    "plt.show()"
   ]
  },
  {
   "cell_type": "code",
   "execution_count": 5,
   "metadata": {},
   "outputs": [
    {
     "name": "stdout",
     "output_type": "stream",
     "text": [
      "🛠️ Equipment Distribution:\n",
      "equipment\n",
      "    158\n",
      "Name: count, dtype: int64\n"
     ]
    },
    {
     "ename": "ValueError",
     "evalue": "Mime type rendering requires nbformat>=4.2.0 but it is not installed",
     "output_type": "error",
     "traceback": [
      "\u001b[31m---------------------------------------------------------------------------\u001b[39m",
      "\u001b[31mValueError\u001b[39m                                Traceback (most recent call last)",
      "\u001b[36mCell\u001b[39m\u001b[36m \u001b[39m\u001b[32mIn[5]\u001b[39m\u001b[32m, line 17\u001b[39m\n\u001b[32m      7\u001b[39m fig = px.bar(\n\u001b[32m      8\u001b[39m     x=equipment_counts.head(\u001b[32m12\u001b[39m).values,\n\u001b[32m      9\u001b[39m     y=equipment_counts.head(\u001b[32m12\u001b[39m).index,\n\u001b[32m   (...)\u001b[39m\u001b[32m     14\u001b[39m     color_continuous_scale=\u001b[33m\"\u001b[39m\u001b[33mviridis\u001b[39m\u001b[33m\"\u001b[39m,\n\u001b[32m     15\u001b[39m )\n\u001b[32m     16\u001b[39m fig.update_layout(height=\u001b[32m500\u001b[39m, showlegend=\u001b[38;5;28;01mFalse\u001b[39;00m)\n\u001b[32m---> \u001b[39m\u001b[32m17\u001b[39m \u001b[43mfig\u001b[49m\u001b[43m.\u001b[49m\u001b[43mshow\u001b[49m\u001b[43m(\u001b[49m\u001b[43m)\u001b[49m\n",
      "\u001b[36mFile \u001b[39m\u001b[32m~/Sync/work/WorkoutBuddy/.venv/lib/python3.12/site-packages/plotly/basedatatypes.py:3436\u001b[39m, in \u001b[36mBaseFigure.show\u001b[39m\u001b[34m(self, *args, **kwargs)\u001b[39m\n\u001b[32m   3403\u001b[39m \u001b[38;5;250m\u001b[39m\u001b[33;03m\"\"\"\u001b[39;00m\n\u001b[32m   3404\u001b[39m \u001b[33;03mShow a figure using either the default renderer(s) or the renderer(s)\u001b[39;00m\n\u001b[32m   3405\u001b[39m \u001b[33;03mspecified by the renderer argument\u001b[39;00m\n\u001b[32m   (...)\u001b[39m\u001b[32m   3432\u001b[39m \u001b[33;03mNone\u001b[39;00m\n\u001b[32m   3433\u001b[39m \u001b[33;03m\"\"\"\u001b[39;00m\n\u001b[32m   3434\u001b[39m \u001b[38;5;28;01mimport\u001b[39;00m\u001b[38;5;250m \u001b[39m\u001b[34;01mplotly\u001b[39;00m\u001b[34;01m.\u001b[39;00m\u001b[34;01mio\u001b[39;00m\u001b[38;5;250m \u001b[39m\u001b[38;5;28;01mas\u001b[39;00m\u001b[38;5;250m \u001b[39m\u001b[34;01mpio\u001b[39;00m\n\u001b[32m-> \u001b[39m\u001b[32m3436\u001b[39m \u001b[38;5;28;01mreturn\u001b[39;00m \u001b[43mpio\u001b[49m\u001b[43m.\u001b[49m\u001b[43mshow\u001b[49m\u001b[43m(\u001b[49m\u001b[38;5;28;43mself\u001b[39;49m\u001b[43m,\u001b[49m\u001b[43m \u001b[49m\u001b[43m*\u001b[49m\u001b[43margs\u001b[49m\u001b[43m,\u001b[49m\u001b[43m \u001b[49m\u001b[43m*\u001b[49m\u001b[43m*\u001b[49m\u001b[43mkwargs\u001b[49m\u001b[43m)\u001b[49m\n",
      "\u001b[36mFile \u001b[39m\u001b[32m~/Sync/work/WorkoutBuddy/.venv/lib/python3.12/site-packages/plotly/io/_renderers.py:425\u001b[39m, in \u001b[36mshow\u001b[39m\u001b[34m(fig, renderer, validate, **kwargs)\u001b[39m\n\u001b[32m    420\u001b[39m     \u001b[38;5;28;01mraise\u001b[39;00m \u001b[38;5;167;01mValueError\u001b[39;00m(\n\u001b[32m    421\u001b[39m         \u001b[33m\"\u001b[39m\u001b[33mMime type rendering requires ipython but it is not installed\u001b[39m\u001b[33m\"\u001b[39m\n\u001b[32m    422\u001b[39m     )\n\u001b[32m    424\u001b[39m \u001b[38;5;28;01mif\u001b[39;00m \u001b[38;5;129;01mnot\u001b[39;00m nbformat \u001b[38;5;129;01mor\u001b[39;00m Version(nbformat.__version__) < Version(\u001b[33m\"\u001b[39m\u001b[33m4.2.0\u001b[39m\u001b[33m\"\u001b[39m):\n\u001b[32m--> \u001b[39m\u001b[32m425\u001b[39m     \u001b[38;5;28;01mraise\u001b[39;00m \u001b[38;5;167;01mValueError\u001b[39;00m(\n\u001b[32m    426\u001b[39m         \u001b[33m\"\u001b[39m\u001b[33mMime type rendering requires nbformat>=4.2.0 but it is not installed\u001b[39m\u001b[33m\"\u001b[39m\n\u001b[32m    427\u001b[39m     )\n\u001b[32m    429\u001b[39m display_jupyter_version_warnings()\n\u001b[32m    431\u001b[39m ipython_display.display(bundle, raw=\u001b[38;5;28;01mTrue\u001b[39;00m)\n",
      "\u001b[31mValueError\u001b[39m: Mime type rendering requires nbformat>=4.2.0 but it is not installed"
     ]
    }
   ],
   "source": [
    "# Interactive equipment analysis\n",
    "equipment_counts = exercises_df[\"equipment\"].value_counts()\n",
    "print(\"🛠️ Equipment Distribution:\")\n",
    "print(equipment_counts.head(10))\n",
    "\n",
    "# Interactive plotly chart\n",
    "fig = px.bar(\n",
    "    x=equipment_counts.head(12).values,\n",
    "    y=equipment_counts.head(12).index,\n",
    "    orientation=\"h\",\n",
    "    title=\"Exercise Count by Equipment Type\",\n",
    "    labels={\"x\": \"Number of Exercises\", \"y\": \"Equipment\"},\n",
    "    color=equipment_counts.head(12).values,\n",
    "    color_continuous_scale=\"viridis\",\n",
    ")\n",
    "fig.update_layout(height=500, showlegend=False)\n",
    "fig.show()"
   ]
  },
  {
   "cell_type": "code",
   "execution_count": 6,
   "metadata": {},
   "outputs": [
    {
     "name": "stdout",
     "output_type": "stream",
     "text": [
      "🏋️ Example Exercise Recommendations:\n",
      "\n",
      "1. Beginner Chest Exercises:\n",
      "Empty DataFrame\n",
      "Columns: [name, main_muscle_group, equipment, difficulty]\n",
      "Index: []\n",
      "\n",
      "2. Dumbbell Exercises:\n",
      "Empty DataFrame\n",
      "Columns: [name, main_muscle_group, equipment, difficulty]\n",
      "Index: []\n"
     ]
    }
   ],
   "source": [
    "# Exercise recommendation system\n",
    "def get_exercises_by_criteria(\n",
    "    muscle_group=None, equipment=None, difficulty=None, limit=5\n",
    "):\n",
    "    \"\"\"\n",
    "    Get exercises based on specified criteria\n",
    "    \"\"\"\n",
    "    filtered_df = exercises_df.copy()\n",
    "\n",
    "    if muscle_group:\n",
    "        filtered_df = filtered_df[\n",
    "            filtered_df[\"main_muscle_group\"].str.contains(\n",
    "                muscle_group, case=False, na=False\n",
    "            )\n",
    "        ]\n",
    "\n",
    "    if equipment:\n",
    "        filtered_df = filtered_df[\n",
    "            filtered_df[\"equipment\"].str.contains(equipment, case=False, na=False)\n",
    "        ]\n",
    "\n",
    "    if difficulty:\n",
    "        filtered_df = filtered_df[\n",
    "            filtered_df[\"difficulty\"].str.contains(difficulty, case=False, na=False)\n",
    "        ]\n",
    "\n",
    "    return filtered_df.head(limit)[\n",
    "        [\"name\", \"main_muscle_group\", \"equipment\", \"difficulty\"]\n",
    "    ]\n",
    "\n",
    "\n",
    "# Example recommendations\n",
    "print(\"🏋️ Example Exercise Recommendations:\")\n",
    "print(\"\\n1. Beginner Chest Exercises:\")\n",
    "print(\n",
    "    get_exercises_by_criteria(muscle_group=\"Chest\", difficulty=\"Beginner\").to_string(\n",
    "        index=False\n",
    "    )\n",
    ")\n",
    "\n",
    "print(\"\\n2. Dumbbell Exercises:\")\n",
    "print(get_exercises_by_criteria(equipment=\"Dumbbells\", limit=8).to_string(index=False))"
   ]
  },
  {
   "cell_type": "markdown",
   "metadata": {},
   "source": [
    "## 🤖 Machine Learning Preparation"
   ]
  },
  {
   "cell_type": "code",
   "execution_count": 7,
   "metadata": {},
   "outputs": [
    {
     "name": "stdout",
     "output_type": "stream",
     "text": [
      "🤖 Preparing data for Machine Learning...\n",
      "\n",
      "📊 ML-Ready Features:\n",
      "                 name  muscle_group_encoded  equipment_encoded  \\\n",
      "0        Arnold Press                     0                  0   \n",
      "1       Assisted Dips                     0                  0   \n",
      "2   Assisted Pull-ups                     0                  0   \n",
      "3         Barbell 21s                     0                  0   \n",
      "4  Barbell Back Squat                     0                  0   \n",
      "\n",
      "   difficulty_encoded  name_length  description_length  form_cues_length  \n",
      "0                   2           12                  32               108  \n",
      "1                   1           13                  20                94  \n",
      "2                   1           17                  24                96  \n",
      "3                   2           11                  35                85  \n",
      "4                   2           18                  91               124  \n",
      "\n",
      "🎯 Potential ML Applications:\n",
      "- Exercise recommendation system\n",
      "- Difficulty prediction\n",
      "- Equipment-based exercise clustering\n",
      "- Muscle group classification\n",
      "- Workout plan generation\n"
     ]
    }
   ],
   "source": [
    "# Prepare data for ML algorithms\n",
    "print(\"🤖 Preparing data for Machine Learning...\")\n",
    "\n",
    "# Encode categorical variables\n",
    "from sklearn.preprocessing import LabelEncoder\n",
    "\n",
    "ml_df = exercises_df.copy()\n",
    "\n",
    "# Encode categorical features\n",
    "le_muscle = LabelEncoder()\n",
    "le_equipment = LabelEncoder()\n",
    "le_difficulty = LabelEncoder()\n",
    "\n",
    "ml_df[\"muscle_group_encoded\"] = le_muscle.fit_transform(\n",
    "    ml_df[\"main_muscle_group\"].fillna(\"Unknown\")\n",
    ")\n",
    "ml_df[\"equipment_encoded\"] = le_equipment.fit_transform(\n",
    "    ml_df[\"equipment\"].fillna(\"Unknown\")\n",
    ")\n",
    "ml_df[\"difficulty_encoded\"] = le_difficulty.fit_transform(\n",
    "    ml_df[\"difficulty\"].fillna(\"Unknown\")\n",
    ")\n",
    "\n",
    "# Add text features\n",
    "ml_df[\"name_length\"] = ml_df[\"name\"].str.len()\n",
    "ml_df[\"description_length\"] = ml_df[\"description\"].str.len()\n",
    "ml_df[\"form_cues_length\"] = ml_df[\"form_cues\"].str.len()\n",
    "\n",
    "print(\"\\n📊 ML-Ready Features:\")\n",
    "feature_cols = [\n",
    "    \"muscle_group_encoded\",\n",
    "    \"equipment_encoded\",\n",
    "    \"difficulty_encoded\",\n",
    "    \"name_length\",\n",
    "    \"description_length\",\n",
    "    \"form_cues_length\",\n",
    "]\n",
    "print(ml_df[[\"name\"] + feature_cols].head())\n",
    "\n",
    "print(\"\\n🎯 Potential ML Applications:\")\n",
    "print(\"- Exercise recommendation system\")\n",
    "print(\"- Difficulty prediction\")\n",
    "print(\"- Equipment-based exercise clustering\")\n",
    "print(\"- Muscle group classification\")\n",
    "print(\"- Workout plan generation\")"
   ]
  },
  {
   "cell_type": "markdown",
   "metadata": {},
   "source": [
    "## 💾 Export Data"
   ]
  },
  {
   "cell_type": "code",
   "execution_count": 10,
   "metadata": {},
   "outputs": [
    {
     "name": "stdout",
     "output_type": "stream",
     "text": [
      "💾 Data exported to 'data_exports/' directory\n",
      "✅ Analysis complete! Ready for ML model development.\n"
     ]
    }
   ],
   "source": [
    "# Export processed data\n",
    "output_dir = \"data_exports\"\n",
    "os.makedirs(output_dir, exist_ok=True)\n",
    "\n",
    "# Export main datasets\n",
    "exercises_df.to_csv(f\"{output_dir}/exercises_raw.csv\", index=False)\n",
    "ml_df.to_csv(f\"{output_dir}/exercises_ml_ready.csv\", index=False)\n",
    "\n",
    "print(f\"💾 Data exported to '{output_dir}/' directory\")\n",
    "print(\"✅ Analysis complete! Ready for ML model development.\")"
   ]
  },
  {
   "cell_type": "code",
   "execution_count": null,
   "metadata": {},
   "outputs": [],
   "source": []
  }
 ],
 "metadata": {
  "kernelspec": {
   "display_name": ".venv",
   "language": "python",
   "name": "python3"
  },
  "language_info": {
   "codemirror_mode": {
    "name": "ipython",
    "version": 3
   },
   "file_extension": ".py",
   "mimetype": "text/x-python",
   "name": "python",
   "nbconvert_exporter": "python",
   "pygments_lexer": "ipython3",
   "version": "3.12.7"
  }
 },
 "nbformat": 4,
 "nbformat_minor": 4
}
